{
 "cells": [
  {
   "cell_type": "markdown",
   "metadata": {},
   "source": [
    "# Distributions and Correlations\n",
    "\n",
    "This notebook will teach you how to explore the key statistical characteristics of data sets. It covers the following topics:\n",
    "\n",
    "- Mean, mode, median and variability\n",
    "- Distribution shapes (symmetric, skewed, uniform, bimodal), \n",
    "- Impact of outliers\n",
    "- Pearson correlation coefficients between variables\n",
    "- Using Python to take samples\n",
    "- Hypothesis testing / p-values"
   ]
  },
  {
   "cell_type": "code",
   "execution_count": 2,
   "metadata": {},
   "outputs": [],
   "source": [
    "# Required libraries\n",
    "import numpy as np\n",
    "import pandas as pd\n",
    "import matplotlib.pyplot as plt"
   ]
  },
  {
   "cell_type": "markdown",
   "metadata": {},
   "source": [
    "## Dataset: heatpump data\n",
    "\n",
    "We will be using a dataset containing energy consumption data for a heat pump. It contains the following columns:\n",
    "\n",
    "- timestamp: timestamp\n",
    "- E_apparaten: energy use of other devices in kWh\n",
    "- E_warmtepomp: energy use of heatpump in kWh\n",
    "- E_verbruik: total energy use in kWh\n",
    "- Overschot: energy returned to grid\n",
    "- hp_AAN: heatpump on or off\n",
    "- diff_temp_woonk: temperature living room\n",
    "- diff_temp_slaapk: temperature bedroom\n",
    "- Tussendeur: inside door open / closed\n",
    "- Buitendeur: outside door open / closed\n",
    "- Raam: window open / closed\n",
    "- Dag: weekday\n",
    "- day_of_week: weekday (same as \"Dag\")\n",
    "- month: month\n",
    "- year: year"
   ]
  },
  {
   "cell_type": "code",
   "execution_count": 3,
   "metadata": {},
   "outputs": [
    {
     "data": {
      "text/html": [
       "<div>\n",
       "<style scoped>\n",
       "    .dataframe tbody tr th:only-of-type {\n",
       "        vertical-align: middle;\n",
       "    }\n",
       "\n",
       "    .dataframe tbody tr th {\n",
       "        vertical-align: top;\n",
       "    }\n",
       "\n",
       "    .dataframe thead th {\n",
       "        text-align: right;\n",
       "    }\n",
       "</style>\n",
       "<table border=\"1\" class=\"dataframe\">\n",
       "  <thead>\n",
       "    <tr style=\"text-align: right;\">\n",
       "      <th></th>\n",
       "      <th>timestamp</th>\n",
       "      <th>E_apparaten</th>\n",
       "      <th>E_warmtepomp</th>\n",
       "      <th>E_verbruik</th>\n",
       "      <th>overschot</th>\n",
       "      <th>hp_AAN</th>\n",
       "      <th>diff_temp_woonk</th>\n",
       "      <th>diff_temp_slaapk</th>\n",
       "      <th>Tussendeur</th>\n",
       "      <th>Buitendeur</th>\n",
       "      <th>Raam</th>\n",
       "      <th>Dag</th>\n",
       "      <th>day_of_week</th>\n",
       "      <th>month</th>\n",
       "      <th>year</th>\n",
       "    </tr>\n",
       "  </thead>\n",
       "  <tbody>\n",
       "    <tr>\n",
       "      <th>0</th>\n",
       "      <td>2019-11-30 21:00:00</td>\n",
       "      <td>0.000000</td>\n",
       "      <td>0.000000</td>\n",
       "      <td>0.000000</td>\n",
       "      <td>0.000000</td>\n",
       "      <td>0.0</td>\n",
       "      <td>19.300000</td>\n",
       "      <td>17.800000</td>\n",
       "      <td>1.0</td>\n",
       "      <td>0.0</td>\n",
       "      <td>0.0</td>\n",
       "      <td>5</td>\n",
       "      <td>5</td>\n",
       "      <td>11</td>\n",
       "      <td>2019</td>\n",
       "    </tr>\n",
       "    <tr>\n",
       "      <th>1</th>\n",
       "      <td>2019-11-30 21:30:00</td>\n",
       "      <td>0.012299</td>\n",
       "      <td>0.455955</td>\n",
       "      <td>0.468254</td>\n",
       "      <td>0.000000</td>\n",
       "      <td>1.0</td>\n",
       "      <td>19.594167</td>\n",
       "      <td>18.094167</td>\n",
       "      <td>1.0</td>\n",
       "      <td>0.0</td>\n",
       "      <td>0.0</td>\n",
       "      <td>5</td>\n",
       "      <td>5</td>\n",
       "      <td>11</td>\n",
       "      <td>2019</td>\n",
       "    </tr>\n",
       "    <tr>\n",
       "      <th>2</th>\n",
       "      <td>2019-11-30 22:00:00</td>\n",
       "      <td>0.012543</td>\n",
       "      <td>0.464996</td>\n",
       "      <td>0.477539</td>\n",
       "      <td>0.000000</td>\n",
       "      <td>1.0</td>\n",
       "      <td>20.286389</td>\n",
       "      <td>18.884444</td>\n",
       "      <td>1.0</td>\n",
       "      <td>0.0</td>\n",
       "      <td>0.0</td>\n",
       "      <td>5</td>\n",
       "      <td>5</td>\n",
       "      <td>11</td>\n",
       "      <td>2019</td>\n",
       "    </tr>\n",
       "    <tr>\n",
       "      <th>3</th>\n",
       "      <td>2019-11-30 22:30:00</td>\n",
       "      <td>0.023764</td>\n",
       "      <td>0.538520</td>\n",
       "      <td>0.562284</td>\n",
       "      <td>0.000000</td>\n",
       "      <td>1.0</td>\n",
       "      <td>20.790278</td>\n",
       "      <td>19.390278</td>\n",
       "      <td>1.0</td>\n",
       "      <td>0.0</td>\n",
       "      <td>0.0</td>\n",
       "      <td>5</td>\n",
       "      <td>5</td>\n",
       "      <td>11</td>\n",
       "      <td>2019</td>\n",
       "    </tr>\n",
       "    <tr>\n",
       "      <th>4</th>\n",
       "      <td>2019-11-30 23:00:00</td>\n",
       "      <td>0.085571</td>\n",
       "      <td>0.608624</td>\n",
       "      <td>0.694196</td>\n",
       "      <td>0.000000</td>\n",
       "      <td>1.0</td>\n",
       "      <td>19.427222</td>\n",
       "      <td>18.223333</td>\n",
       "      <td>1.0</td>\n",
       "      <td>0.0</td>\n",
       "      <td>0.0</td>\n",
       "      <td>5</td>\n",
       "      <td>5</td>\n",
       "      <td>11</td>\n",
       "      <td>2019</td>\n",
       "    </tr>\n",
       "    <tr>\n",
       "      <th>...</th>\n",
       "      <td>...</td>\n",
       "      <td>...</td>\n",
       "      <td>...</td>\n",
       "      <td>...</td>\n",
       "      <td>...</td>\n",
       "      <td>...</td>\n",
       "      <td>...</td>\n",
       "      <td>...</td>\n",
       "      <td>...</td>\n",
       "      <td>...</td>\n",
       "      <td>...</td>\n",
       "      <td>...</td>\n",
       "      <td>...</td>\n",
       "      <td>...</td>\n",
       "      <td>...</td>\n",
       "    </tr>\n",
       "    <tr>\n",
       "      <th>10244</th>\n",
       "      <td>2020-07-01 07:00:00</td>\n",
       "      <td>0.102798</td>\n",
       "      <td>0.002612</td>\n",
       "      <td>0.105410</td>\n",
       "      <td>0.000000</td>\n",
       "      <td>1.0</td>\n",
       "      <td>6.000000</td>\n",
       "      <td>6.600000</td>\n",
       "      <td>0.0</td>\n",
       "      <td>0.0</td>\n",
       "      <td>0.0</td>\n",
       "      <td>2</td>\n",
       "      <td>2</td>\n",
       "      <td>7</td>\n",
       "      <td>2020</td>\n",
       "    </tr>\n",
       "    <tr>\n",
       "      <th>10245</th>\n",
       "      <td>2020-07-01 07:30:00</td>\n",
       "      <td>0.092111</td>\n",
       "      <td>0.010005</td>\n",
       "      <td>0.102116</td>\n",
       "      <td>0.000000</td>\n",
       "      <td>1.0</td>\n",
       "      <td>5.947889</td>\n",
       "      <td>6.521833</td>\n",
       "      <td>0.0</td>\n",
       "      <td>0.0</td>\n",
       "      <td>0.0</td>\n",
       "      <td>2</td>\n",
       "      <td>2</td>\n",
       "      <td>7</td>\n",
       "      <td>2020</td>\n",
       "    </tr>\n",
       "    <tr>\n",
       "      <th>10246</th>\n",
       "      <td>2020-07-01 08:00:00</td>\n",
       "      <td>0.093163</td>\n",
       "      <td>0.007402</td>\n",
       "      <td>0.100565</td>\n",
       "      <td>0.001018</td>\n",
       "      <td>1.0</td>\n",
       "      <td>5.800000</td>\n",
       "      <td>6.300000</td>\n",
       "      <td>0.0</td>\n",
       "      <td>0.0</td>\n",
       "      <td>0.0</td>\n",
       "      <td>2</td>\n",
       "      <td>2</td>\n",
       "      <td>7</td>\n",
       "      <td>2020</td>\n",
       "    </tr>\n",
       "    <tr>\n",
       "      <th>10247</th>\n",
       "      <td>2020-07-01 08:30:00</td>\n",
       "      <td>0.088124</td>\n",
       "      <td>0.002610</td>\n",
       "      <td>0.090734</td>\n",
       "      <td>0.034967</td>\n",
       "      <td>1.0</td>\n",
       "      <td>5.646187</td>\n",
       "      <td>6.146187</td>\n",
       "      <td>0.0</td>\n",
       "      <td>0.0</td>\n",
       "      <td>0.0</td>\n",
       "      <td>2</td>\n",
       "      <td>2</td>\n",
       "      <td>7</td>\n",
       "      <td>2020</td>\n",
       "    </tr>\n",
       "    <tr>\n",
       "      <th>10248</th>\n",
       "      <td>2020-07-01 09:00:00</td>\n",
       "      <td>0.051930</td>\n",
       "      <td>0.010013</td>\n",
       "      <td>0.061943</td>\n",
       "      <td>0.146271</td>\n",
       "      <td>1.0</td>\n",
       "      <td>5.233487</td>\n",
       "      <td>5.733487</td>\n",
       "      <td>0.0</td>\n",
       "      <td>0.0</td>\n",
       "      <td>0.0</td>\n",
       "      <td>2</td>\n",
       "      <td>2</td>\n",
       "      <td>7</td>\n",
       "      <td>2020</td>\n",
       "    </tr>\n",
       "  </tbody>\n",
       "</table>\n",
       "<p>10249 rows × 15 columns</p>\n",
       "</div>"
      ],
      "text/plain": [
       "                 timestamp  E_apparaten  E_warmtepomp  E_verbruik  overschot  \\\n",
       "0      2019-11-30 21:00:00     0.000000      0.000000    0.000000   0.000000   \n",
       "1      2019-11-30 21:30:00     0.012299      0.455955    0.468254   0.000000   \n",
       "2      2019-11-30 22:00:00     0.012543      0.464996    0.477539   0.000000   \n",
       "3      2019-11-30 22:30:00     0.023764      0.538520    0.562284   0.000000   \n",
       "4      2019-11-30 23:00:00     0.085571      0.608624    0.694196   0.000000   \n",
       "...                    ...          ...           ...         ...        ...   \n",
       "10244  2020-07-01 07:00:00     0.102798      0.002612    0.105410   0.000000   \n",
       "10245  2020-07-01 07:30:00     0.092111      0.010005    0.102116   0.000000   \n",
       "10246  2020-07-01 08:00:00     0.093163      0.007402    0.100565   0.001018   \n",
       "10247  2020-07-01 08:30:00     0.088124      0.002610    0.090734   0.034967   \n",
       "10248  2020-07-01 09:00:00     0.051930      0.010013    0.061943   0.146271   \n",
       "\n",
       "       hp_AAN  diff_temp_woonk  diff_temp_slaapk  Tussendeur  Buitendeur  \\\n",
       "0         0.0        19.300000         17.800000         1.0         0.0   \n",
       "1         1.0        19.594167         18.094167         1.0         0.0   \n",
       "2         1.0        20.286389         18.884444         1.0         0.0   \n",
       "3         1.0        20.790278         19.390278         1.0         0.0   \n",
       "4         1.0        19.427222         18.223333         1.0         0.0   \n",
       "...       ...              ...               ...         ...         ...   \n",
       "10244     1.0         6.000000          6.600000         0.0         0.0   \n",
       "10245     1.0         5.947889          6.521833         0.0         0.0   \n",
       "10246     1.0         5.800000          6.300000         0.0         0.0   \n",
       "10247     1.0         5.646187          6.146187         0.0         0.0   \n",
       "10248     1.0         5.233487          5.733487         0.0         0.0   \n",
       "\n",
       "       Raam  Dag  day_of_week  month  year  \n",
       "0       0.0    5            5     11  2019  \n",
       "1       0.0    5            5     11  2019  \n",
       "2       0.0    5            5     11  2019  \n",
       "3       0.0    5            5     11  2019  \n",
       "4       0.0    5            5     11  2019  \n",
       "...     ...  ...          ...    ...   ...  \n",
       "10244   0.0    2            2      7  2020  \n",
       "10245   0.0    2            2      7  2020  \n",
       "10246   0.0    2            2      7  2020  \n",
       "10247   0.0    2            2      7  2020  \n",
       "10248   0.0    2            2      7  2020  \n",
       "\n",
       "[10249 rows x 15 columns]"
      ]
     },
     "execution_count": 3,
     "metadata": {},
     "output_type": "execute_result"
    }
   ],
   "source": [
    "# Read in the data\n",
    "dfhp = pd.read_csv(\"../data/heatpump_clean_filtered.csv\")\n",
    "dfhp"
   ]
  },
  {
   "cell_type": "markdown",
   "metadata": {},
   "source": [
    "## Recap: mean, mode, median and variability\n",
    "\n",
    "Functions for calculating the mean, median and variability (or standard deviation, which is more convenient) of a a set of numbers can be found in the `numpy` package.\n",
    "\n",
    "There is no \"mode\" function in numpy."
   ]
  },
  {
   "cell_type": "code",
   "execution_count": 4,
   "metadata": {},
   "outputs": [
    {
     "name": "stdout",
     "output_type": "stream",
     "text": [
      "Mean: 3.0\n",
      "Median: 2.0\n",
      "Variance: 0.12244897959183675\n",
      "Standard deviation: 1.4142135623730951\n"
     ]
    }
   ],
   "source": [
    "# Statistics functions can be found in numpy:\n",
    "print(f'Mean: {np.mean([1, 2, 3, 4, 5])}')\n",
    "print(f'Median: {np.median([1, 1, 2, 3, 3])}')\n",
    "print(f'Variance: {np.var([1, 1, 1, 1, 1, 1, 2])}')\n",
    "print(f'Standard deviation: {np.std([1, 2, 3, 4, 5])}')\n",
    "# However, there is no \"mode\" function!\n",
    "# Nope: print(f'Mode: {np.mode([1, 2, 2, 3, 4])}')"
   ]
  },
  {
   "cell_type": "code",
   "execution_count": 5,
   "metadata": {},
   "outputs": [
    {
     "name": "stdout",
     "output_type": "stream",
     "text": [
      "Mean energy consumption: 0.2896702229964174\n",
      "Median energy consumption: 0.3158775840438466\n",
      "Variance in energy consumption: 0.02968122693230563\n",
      "Energy consumption standard deviation: 0.1722824045928824\n"
     ]
    }
   ],
   "source": [
    "# However, Pandas is nice enough to wrap these numpy functions so we can use them directly on our data frames:\n",
    "print(f'Mean energy consumption: {dfhp['E_verbruik'].mean()}')\n",
    "print(f'Median energy consumption: {dfhp['E_verbruik'].median()}')\n",
    "print(f'Variance in energy consumption: {dfhp['E_verbruik'].var()}')\n",
    "print(f'Energy consumption standard deviation: {dfhp['E_verbruik'].std()}')"
   ]
  },
  {
   "cell_type": "markdown",
   "metadata": {},
   "source": [
    "Pandas also has a convenient function that describes an entire data set with a single command:"
   ]
  },
  {
   "cell_type": "code",
   "execution_count": 6,
   "metadata": {},
   "outputs": [
    {
     "data": {
      "text/html": [
       "<div>\n",
       "<style scoped>\n",
       "    .dataframe tbody tr th:only-of-type {\n",
       "        vertical-align: middle;\n",
       "    }\n",
       "\n",
       "    .dataframe tbody tr th {\n",
       "        vertical-align: top;\n",
       "    }\n",
       "\n",
       "    .dataframe thead th {\n",
       "        text-align: right;\n",
       "    }\n",
       "</style>\n",
       "<table border=\"1\" class=\"dataframe\">\n",
       "  <thead>\n",
       "    <tr style=\"text-align: right;\">\n",
       "      <th></th>\n",
       "      <th>E_apparaten</th>\n",
       "      <th>E_warmtepomp</th>\n",
       "      <th>E_verbruik</th>\n",
       "      <th>overschot</th>\n",
       "      <th>hp_AAN</th>\n",
       "      <th>diff_temp_woonk</th>\n",
       "      <th>diff_temp_slaapk</th>\n",
       "      <th>Tussendeur</th>\n",
       "      <th>Buitendeur</th>\n",
       "      <th>Raam</th>\n",
       "      <th>Dag</th>\n",
       "      <th>day_of_week</th>\n",
       "      <th>month</th>\n",
       "      <th>year</th>\n",
       "    </tr>\n",
       "  </thead>\n",
       "  <tbody>\n",
       "    <tr>\n",
       "      <th>count</th>\n",
       "      <td>10249.000000</td>\n",
       "      <td>10249.000000</td>\n",
       "      <td>10249.000000</td>\n",
       "      <td>10249.000000</td>\n",
       "      <td>10249.000000</td>\n",
       "      <td>10249.000000</td>\n",
       "      <td>10249.000000</td>\n",
       "      <td>10249.000000</td>\n",
       "      <td>10249.000000</td>\n",
       "      <td>10249.000000</td>\n",
       "      <td>10249.000000</td>\n",
       "      <td>10249.000000</td>\n",
       "      <td>10249.000000</td>\n",
       "      <td>10249.000000</td>\n",
       "    </tr>\n",
       "    <tr>\n",
       "      <th>mean</th>\n",
       "      <td>0.083537</td>\n",
       "      <td>0.206134</td>\n",
       "      <td>0.289670</td>\n",
       "      <td>0.237514</td>\n",
       "      <td>0.999902</td>\n",
       "      <td>10.913430</td>\n",
       "      <td>9.020691</td>\n",
       "      <td>0.067811</td>\n",
       "      <td>0.095034</td>\n",
       "      <td>0.250463</td>\n",
       "      <td>2.989950</td>\n",
       "      <td>2.989950</td>\n",
       "      <td>4.744951</td>\n",
       "      <td>2019.854230</td>\n",
       "    </tr>\n",
       "    <tr>\n",
       "      <th>std</th>\n",
       "      <td>0.057391</td>\n",
       "      <td>0.172998</td>\n",
       "      <td>0.172282</td>\n",
       "      <td>0.419715</td>\n",
       "      <td>0.009878</td>\n",
       "      <td>5.576968</td>\n",
       "      <td>5.142348</td>\n",
       "      <td>0.251434</td>\n",
       "      <td>0.293276</td>\n",
       "      <td>0.433301</td>\n",
       "      <td>2.010365</td>\n",
       "      <td>2.010365</td>\n",
       "      <td>3.389054</td>\n",
       "      <td>0.352893</td>\n",
       "    </tr>\n",
       "    <tr>\n",
       "      <th>min</th>\n",
       "      <td>-0.215998</td>\n",
       "      <td>0.000000</td>\n",
       "      <td>-0.212472</td>\n",
       "      <td>0.000000</td>\n",
       "      <td>0.000000</td>\n",
       "      <td>-9.090117</td>\n",
       "      <td>-10.168333</td>\n",
       "      <td>0.000000</td>\n",
       "      <td>0.000000</td>\n",
       "      <td>0.000000</td>\n",
       "      <td>0.000000</td>\n",
       "      <td>0.000000</td>\n",
       "      <td>1.000000</td>\n",
       "      <td>2019.000000</td>\n",
       "    </tr>\n",
       "    <tr>\n",
       "      <th>25%</th>\n",
       "      <td>0.048700</td>\n",
       "      <td>0.010010</td>\n",
       "      <td>0.118801</td>\n",
       "      <td>0.000000</td>\n",
       "      <td>1.000000</td>\n",
       "      <td>7.652526</td>\n",
       "      <td>6.495614</td>\n",
       "      <td>0.000000</td>\n",
       "      <td>0.000000</td>\n",
       "      <td>0.000000</td>\n",
       "      <td>1.000000</td>\n",
       "      <td>1.000000</td>\n",
       "      <td>2.000000</td>\n",
       "      <td>2020.000000</td>\n",
       "    </tr>\n",
       "    <tr>\n",
       "      <th>50%</th>\n",
       "      <td>0.080578</td>\n",
       "      <td>0.237776</td>\n",
       "      <td>0.315878</td>\n",
       "      <td>0.002295</td>\n",
       "      <td>1.000000</td>\n",
       "      <td>11.947830</td>\n",
       "      <td>9.678827</td>\n",
       "      <td>0.000000</td>\n",
       "      <td>0.000000</td>\n",
       "      <td>0.000000</td>\n",
       "      <td>3.000000</td>\n",
       "      <td>3.000000</td>\n",
       "      <td>4.000000</td>\n",
       "      <td>2020.000000</td>\n",
       "    </tr>\n",
       "    <tr>\n",
       "      <th>75%</th>\n",
       "      <td>0.102569</td>\n",
       "      <td>0.341597</td>\n",
       "      <td>0.411410</td>\n",
       "      <td>0.282229</td>\n",
       "      <td>1.000000</td>\n",
       "      <td>14.900000</td>\n",
       "      <td>12.440873</td>\n",
       "      <td>0.000000</td>\n",
       "      <td>0.000000</td>\n",
       "      <td>1.000000</td>\n",
       "      <td>5.000000</td>\n",
       "      <td>5.000000</td>\n",
       "      <td>6.000000</td>\n",
       "      <td>2020.000000</td>\n",
       "    </tr>\n",
       "    <tr>\n",
       "      <th>max</th>\n",
       "      <td>1.348056</td>\n",
       "      <td>0.996969</td>\n",
       "      <td>1.357693</td>\n",
       "      <td>2.067762</td>\n",
       "      <td>1.000000</td>\n",
       "      <td>24.827620</td>\n",
       "      <td>24.232867</td>\n",
       "      <td>1.000000</td>\n",
       "      <td>1.000000</td>\n",
       "      <td>1.000000</td>\n",
       "      <td>6.000000</td>\n",
       "      <td>6.000000</td>\n",
       "      <td>12.000000</td>\n",
       "      <td>2020.000000</td>\n",
       "    </tr>\n",
       "  </tbody>\n",
       "</table>\n",
       "</div>"
      ],
      "text/plain": [
       "        E_apparaten  E_warmtepomp    E_verbruik     overschot        hp_AAN  \\\n",
       "count  10249.000000  10249.000000  10249.000000  10249.000000  10249.000000   \n",
       "mean       0.083537      0.206134      0.289670      0.237514      0.999902   \n",
       "std        0.057391      0.172998      0.172282      0.419715      0.009878   \n",
       "min       -0.215998      0.000000     -0.212472      0.000000      0.000000   \n",
       "25%        0.048700      0.010010      0.118801      0.000000      1.000000   \n",
       "50%        0.080578      0.237776      0.315878      0.002295      1.000000   \n",
       "75%        0.102569      0.341597      0.411410      0.282229      1.000000   \n",
       "max        1.348056      0.996969      1.357693      2.067762      1.000000   \n",
       "\n",
       "       diff_temp_woonk  diff_temp_slaapk    Tussendeur    Buitendeur  \\\n",
       "count     10249.000000      10249.000000  10249.000000  10249.000000   \n",
       "mean         10.913430          9.020691      0.067811      0.095034   \n",
       "std           5.576968          5.142348      0.251434      0.293276   \n",
       "min          -9.090117        -10.168333      0.000000      0.000000   \n",
       "25%           7.652526          6.495614      0.000000      0.000000   \n",
       "50%          11.947830          9.678827      0.000000      0.000000   \n",
       "75%          14.900000         12.440873      0.000000      0.000000   \n",
       "max          24.827620         24.232867      1.000000      1.000000   \n",
       "\n",
       "               Raam           Dag   day_of_week         month          year  \n",
       "count  10249.000000  10249.000000  10249.000000  10249.000000  10249.000000  \n",
       "mean       0.250463      2.989950      2.989950      4.744951   2019.854230  \n",
       "std        0.433301      2.010365      2.010365      3.389054      0.352893  \n",
       "min        0.000000      0.000000      0.000000      1.000000   2019.000000  \n",
       "25%        0.000000      1.000000      1.000000      2.000000   2020.000000  \n",
       "50%        0.000000      3.000000      3.000000      4.000000   2020.000000  \n",
       "75%        1.000000      5.000000      5.000000      6.000000   2020.000000  \n",
       "max        1.000000      6.000000      6.000000     12.000000   2020.000000  "
      ]
     },
     "execution_count": 6,
     "metadata": {},
     "output_type": "execute_result"
    }
   ],
   "source": [
    "# Command for describing an entire data set (also works on a single column).\n",
    "dfhp.describe()"
   ]
  },
  {
   "cell_type": "markdown",
   "metadata": {},
   "source": [
    "## Distributions and distribution shapes\n",
    "\n",
    "Looking at the numbers for the energy consumption column for all devices including the heat pump (E_verbruik) what can we tell about the way these values are distributed? Compare the mean to the standard deviation (std).\n",
    "\n",
    "Further investigation is warranted. Plot a histogram of the E_verbruik column. Increase the number of bins until can confidently describe the shape of the distribution for this variable.\n",
    "\n",
    "Also spend some time thinking about what the shape of this distribution tells us about the data."
   ]
  },
  {
   "cell_type": "code",
   "execution_count": 10,
   "metadata": {},
   "outputs": [
    {
     "data": {
      "text/plain": [
       "<Axes: >"
      ]
     },
     "execution_count": 10,
     "metadata": {},
     "output_type": "execute_result"
    },
    {
     "data": {
      "image/png": "[encoded data removed]",
      "text/plain": [
       "<Figure size 640x480 with 1 Axes>"
      ]
     },
     "metadata": {},
     "output_type": "display_data"
    }
   ],
   "source": [
    "# Your code goes here.\n",
    "dfhp['E_verbruik'].hist(bins=20, rwidth=0.8)\n",
    "\n"
   ]
  },
  {
   "cell_type": "markdown",
   "metadata": {},
   "source": [
    "## Outliers\n",
    "\n",
    "Examine the histogram. Do you detect any outliers? What is their effect on the shape of the distribution? Can you think of a different graph type to make it more obvious that these are, indeed, outliers?"
   ]
  },
  {
   "cell_type": "code",
   "execution_count": 11,
   "metadata": {},
   "outputs": [
    {
     "data": {
      "text/plain": [
       "<Axes: >"
      ]
     },
     "execution_count": 11,
     "metadata": {},
     "output_type": "execute_result"
    },
    {
     "data": {
      "image/png": "[encoded data removed]",
      "text/plain": [
       "<Figure size 640x480 with 1 Axes>"
      ]
     },
     "metadata": {},
     "output_type": "display_data"
    }
   ],
   "source": [
    "# Place your code here for a graph that makes it more obvious that we're dealing with outliers.\n",
    "dfhp['E_verbruik'].plot.box()\n"
   ]
  },
  {
   "cell_type": "markdown",
   "metadata": {},
   "source": [
    "Spend some time thinking about what these outliers could be. Do you want to remove them from the data set or do you want to keep them in?"
   ]
  },
  {
   "cell_type": "markdown",
   "metadata": {},
   "source": [
    "### What is an outlier anyway?\n",
    "\n",
    "For normally distributed samples, the data points that matplotlib box plots mark as outliers lie beyond what is called IQR (interquartile range) times 1.5 added to the third quartile point (Q3). In many cases, this range is small enough that treating these data points as outliers is sensible.\n",
    "\n",
    "<img src=\"img/boxplot_ranges.png\" width=\"25%\" title=\"Box plot ranges vs normal distribution\" />\n",
    "\n",
    "\n",
    "<small>Relationship between the normal distribution and box plots. Source: https://commons.wikimedia.org/wiki/File:Boxplot_vs_PDF.svg</small>\n",
    "\n",
    "However, not all distributions are normally distributed. Let's take a look at the distribution of the E_warmptepomp variable that records the energy use of the heat pump itself.\n"
   ]
  },
  {
   "cell_type": "code",
   "execution_count": null,
   "metadata": {},
   "outputs": [
    {
     "data": {
      "image/png": "[encoded data removed]",
      "text/plain": [
       "<Figure size 640x480 with 1 Axes>"
      ]
     },
     "metadata": {},
     "output_type": "display_data"
    }
   ],
   "source": [
    "# The distribution of the E_warmtepomp variable (heat pump energy use.)\n",
    "dfhp['E_warmtepomp'].plot.box(title=\"Distribution of the 'E_warmptepomp' variable\", xlabel=\"Heat pump energy use (kWh)\", ylabel=\"Frequency\")\n",
    "plt.show()\n"
   ]
  },
  {
   "cell_type": "markdown",
   "metadata": {},
   "source": [
    "Clearly this distribution is skewed. Throughout most of the recorded period the heat pump used comparatively little energy and in a small but wide range it used a lot more. Why?\n",
    "\n",
    "Plot a histogram of the E_warmtepomp variable to take a closer look at the variable. Play with the bins setting until you feel confident you have a clear picture of the distribution shape."
   ]
  },
  {
   "cell_type": "code",
   "execution_count": 24,
   "metadata": {},
   "outputs": [
    {
     "data": {
      "image/png": "[encoded data removed]",
      "text/plain": [
       "<Figure size 640x480 with 1 Axes>"
      ]
     },
     "metadata": {},
     "output_type": "display_data"
    }
   ],
   "source": [
    "# Your code goes here.\n",
    "dfhp['E_warmtepomp'].plot.hist(bins=100, title=\"Distribution of the 'E_warmptepomp' variable (hist)\", xlabel=\"Heat pump energy use (kWh)\", ylabel=\"Frequency\", rwidth=0.9)\n",
    "plt.show()"
   ]
  },
  {
   "cell_type": "markdown",
   "metadata": {},
   "source": [
    "### Is it safe to throw the outliers out?\n",
    "The number of data points where energy used is high is small, but at these points the amount of energy used is more than twice the median value. Since energy used is what one tends to be interested in when looking at heat pump data, it's instructive to calculate the total percentage of energy used by the data points in question. This tells us what the **impact** is of the outliers on the entire data set.\n",
    "\n",
    "The code for this is below. Play around with the cutoff variable to determine at what point discarding outliers is safe."
   ]
  },
  {
   "cell_type": "code",
   "execution_count": 40,
   "metadata": {},
   "outputs": [
    {
     "name": "stdout",
     "output_type": "stream",
     "text": [
      "Outliers above cutoff value of 0.8 kWh use  0.39% of the total energy used.\n"
     ]
    }
   ],
   "source": [
    "# Let's calculate how much of the energy use of the heat pump is caused by the so-called outliers\n",
    "# Note the use of a variable to allow us to play around with the settings without changing the formula code.\n",
    "# Note also the use of exceptionally long variable names. These are terrible to type, but make the code\n",
    "# much, much easier to read. This is important when you revisit your code at some later date and you've\n",
    "# forgotten how it works.\n",
    "cutoff = 0.8 # Value above which a datapoint is considered to be an outlier\n",
    "\n",
    "outlier_energy_usage = dfhp['E_warmtepomp'].loc[(dfhp['E_warmtepomp'] > cutoff)].sum()\n",
    "non_outlier_energy_usage = dfhp['E_warmtepomp'].loc[(dfhp['E_warmtepomp'] <= cutoff)].sum()\n",
    "outlier_energy_usage_percentage = 100.0 * (outlier_energy_usage / (outlier_energy_usage + non_outlier_energy_usage))\n",
    "print(f\"Outliers above cutoff value of {cutoff} kWh use {outlier_energy_usage_percentage : .2f}% of the total energy used.\")\n"
   ]
  },
  {
   "cell_type": "markdown",
   "metadata": {},
   "source": [
    "What do you think? Should we throw the outliers out or should we leave them in?"
   ]
  },
  {
   "cell_type": "markdown",
   "metadata": {},
   "source": [
    "## Pearson's correlation coefficient\n",
    "\n",
    "Since we're dealing with heat pump energy use data, a sensible hypothesis would be that energy use is in some way related to the outside temperature.\n",
    "\n",
    "Unfortunately, this is not available to us. We'll have to make do with:\n",
    "\n",
    "- diff_temp_woonk: temperature living room (difference with outside temperature)\n",
    "- diff_temp_slaapk: temperature bedroom (difference with outside temperature)\n",
    "\n",
    "Let's pick the temperature of the living room. Plot the relationship between E_verbruik (energy usage) and living room temperature using a scatter plot."
   ]
  },
  {
   "cell_type": "code",
   "execution_count": 44,
   "metadata": {},
   "outputs": [],
   "source": [
    "# Your code goes here:\n"
   ]
  },
  {
   "cell_type": "markdown",
   "metadata": {},
   "source": [
    "Unfortunately, the pattern is not very obvious. Maybe it helps to plot the relationship between month numbers and energy usage?"
   ]
  },
  {
   "cell_type": "code",
   "execution_count": null,
   "metadata": {},
   "outputs": [],
   "source": [
    "# Code for plotting the relationship between energy usage and the month number goes here."
   ]
  },
  {
   "cell_type": "markdown",
   "metadata": {},
   "source": [
    "Again, not a strong relationship, it seems, but the pattern is more marked than for the temperatures.\n",
    "\n",
    "Normally you would try to strengthen the pattern, for example by summarizing the data in some way. You could sum the total energy usage per day and take the maximum temperature differential for each day and compare those."
   ]
  },
  {
   "cell_type": "markdown",
   "metadata": {},
   "source": [
    "- Lognormal distributions and their effect on outliers (which you therefore shouldn't drop!)\n",
    "- QQ Plot\n",
    "- Kolmogorov-Smirnov test\n",
    "- What is a normal distribution? Show a video of a Galton board\n",
    "- Group by (see above)"
   ]
  }
 ],
 "metadata": {
  "kernelspec": {
   "display_name": ".venv",
   "language": "python",
   "name": "python3"
  },
  "language_info": {
   "codemirror_mode": {
    "name": "ipython",
    "version": 3
   },
   "file_extension": ".py",
   "mimetype": "text/x-python",
   "name": "python",
   "nbconvert_exporter": "python",
   "pygments_lexer": "ipython3",
   "version": "3.13.0"
  }
 },
 "nbformat": 4,
 "nbformat_minor": 2
}
