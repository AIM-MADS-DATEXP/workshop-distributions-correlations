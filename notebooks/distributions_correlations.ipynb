{
 "cells": [
  {
   "cell_type": "markdown",
   "metadata": {},
   "source": [
    "# Distributions and Correlations\n",
    "\n",
    "This notebook will teach you how to explore the key statistical characteristics of data sets. It covers the following topics:\n",
    "\n",
    "- Mean, mode, median and variability\n",
    "- Distribution shapes (symmetric, skewed, uniform, bimodal), \n",
    "- Impact of outliers\n",
    "- Pearson correlation coefficients between variables\n",
    "- Assessing the linearity of a relationship between variables.\n",
    "- Checking if a given dataset is normally distributed or not.\n"
   ]
  },
  {
   "cell_type": "code",
   "execution_count": 147,
   "metadata": {},
   "outputs": [],
   "source": [
    "# First, we need to set things up to tell Pandas to hide well meant but \n",
    "# annoying warnings that a feature we want to use might become\n",
    "# deprecated in the near future. Do this *before* you import Pandas.\n",
    "import warnings\n",
    "warnings.simplefilter(action='ignore', category=FutureWarning)\n",
    "\n",
    "# Required libraries\n",
    "import numpy as np\n",
    "import pandas as pd\n",
    "import matplotlib.pyplot as plt\n",
    "import seaborn as sns # Used for the correlation matrix.\n",
    "import statsmodels.api as sm # Used for QQ plots.\n",
    "from scipy import stats\n"
   ]
  },
  {
   "cell_type": "markdown",
   "metadata": {},
   "source": [
    "## Dataset: heatpump data\n",
    "\n",
    "We will be using a dataset containing energy consumption data for a heat pump. It contains the following columns:\n",
    "\n",
    "- timestamp: timestamp\n",
    "- E_apparaten: energy use of other devices in kWh\n",
    "- E_warmtepomp: energy use of heatpump in kWh\n",
    "- E_verbruik: total energy use in kWh\n",
    "- Overschot: energy returned to grid\n",
    "- hp_AAN: heatpump on or off\n",
    "- diff_temp_woonk: temperature living room\n",
    "- diff_temp_slaapk: temperature bedroom\n",
    "- Tussendeur: inside door open / closed\n",
    "- Buitendeur: outside door open / closed\n",
    "- Raam: window open / closed\n",
    "- Dag: weekday\n",
    "- day_of_week: weekday (same as \"Dag\")\n",
    "- month: month\n",
    "- year: year"
   ]
  },
  {
   "cell_type": "code",
   "execution_count": 47,
   "metadata": {},
   "outputs": [
    {
     "data": {
      "text/html": [
       "<div>\n",
       "<style scoped>\n",
       "    .dataframe tbody tr th:only-of-type {\n",
       "        vertical-align: middle;\n",
       "    }\n",
       "\n",
       "    .dataframe tbody tr th {\n",
       "        vertical-align: top;\n",
       "    }\n",
       "\n",
       "    .dataframe thead th {\n",
       "        text-align: right;\n",
       "    }\n",
       "</style>\n",
       "<table border=\"1\" class=\"dataframe\">\n",
       "  <thead>\n",
       "    <tr style=\"text-align: right;\">\n",
       "      <th></th>\n",
       "      <th>timestamp</th>\n",
       "      <th>E_apparaten</th>\n",
       "      <th>E_warmtepomp</th>\n",
       "      <th>E_verbruik</th>\n",
       "      <th>overschot</th>\n",
       "      <th>hp_AAN</th>\n",
       "      <th>diff_temp_woonk</th>\n",
       "      <th>diff_temp_slaapk</th>\n",
       "      <th>Tussendeur</th>\n",
       "      <th>Buitendeur</th>\n",
       "      <th>Raam</th>\n",
       "      <th>Dag</th>\n",
       "      <th>day_of_week</th>\n",
       "      <th>month</th>\n",
       "      <th>year</th>\n",
       "    </tr>\n",
       "  </thead>\n",
       "  <tbody>\n",
       "    <tr>\n",
       "      <th>0</th>\n",
       "      <td>2019-11-30 21:00:00</td>\n",
       "      <td>0.000000</td>\n",
       "      <td>0.000000</td>\n",
       "      <td>0.000000</td>\n",
       "      <td>0.000000</td>\n",
       "      <td>0.0</td>\n",
       "      <td>19.300000</td>\n",
       "      <td>17.800000</td>\n",
       "      <td>1.0</td>\n",
       "      <td>0.0</td>\n",
       "      <td>0.0</td>\n",
       "      <td>5</td>\n",
       "      <td>5</td>\n",
       "      <td>11</td>\n",
       "      <td>2019</td>\n",
       "    </tr>\n",
       "    <tr>\n",
       "      <th>1</th>\n",
       "      <td>2019-11-30 21:30:00</td>\n",
       "      <td>0.012299</td>\n",
       "      <td>0.455955</td>\n",
       "      <td>0.468254</td>\n",
       "      <td>0.000000</td>\n",
       "      <td>1.0</td>\n",
       "      <td>19.594167</td>\n",
       "      <td>18.094167</td>\n",
       "      <td>1.0</td>\n",
       "      <td>0.0</td>\n",
       "      <td>0.0</td>\n",
       "      <td>5</td>\n",
       "      <td>5</td>\n",
       "      <td>11</td>\n",
       "      <td>2019</td>\n",
       "    </tr>\n",
       "    <tr>\n",
       "      <th>2</th>\n",
       "      <td>2019-11-30 22:00:00</td>\n",
       "      <td>0.012543</td>\n",
       "      <td>0.464996</td>\n",
       "      <td>0.477539</td>\n",
       "      <td>0.000000</td>\n",
       "      <td>1.0</td>\n",
       "      <td>20.286389</td>\n",
       "      <td>18.884444</td>\n",
       "      <td>1.0</td>\n",
       "      <td>0.0</td>\n",
       "      <td>0.0</td>\n",
       "      <td>5</td>\n",
       "      <td>5</td>\n",
       "      <td>11</td>\n",
       "      <td>2019</td>\n",
       "    </tr>\n",
       "    <tr>\n",
       "      <th>3</th>\n",
       "      <td>2019-11-30 22:30:00</td>\n",
       "      <td>0.023764</td>\n",
       "      <td>0.538520</td>\n",
       "      <td>0.562284</td>\n",
       "      <td>0.000000</td>\n",
       "      <td>1.0</td>\n",
       "      <td>20.790278</td>\n",
       "      <td>19.390278</td>\n",
       "      <td>1.0</td>\n",
       "      <td>0.0</td>\n",
       "      <td>0.0</td>\n",
       "      <td>5</td>\n",
       "      <td>5</td>\n",
       "      <td>11</td>\n",
       "      <td>2019</td>\n",
       "    </tr>\n",
       "    <tr>\n",
       "      <th>4</th>\n",
       "      <td>2019-11-30 23:00:00</td>\n",
       "      <td>0.085571</td>\n",
       "      <td>0.608624</td>\n",
       "      <td>0.694196</td>\n",
       "      <td>0.000000</td>\n",
       "      <td>1.0</td>\n",
       "      <td>19.427222</td>\n",
       "      <td>18.223333</td>\n",
       "      <td>1.0</td>\n",
       "      <td>0.0</td>\n",
       "      <td>0.0</td>\n",
       "      <td>5</td>\n",
       "      <td>5</td>\n",
       "      <td>11</td>\n",
       "      <td>2019</td>\n",
       "    </tr>\n",
       "    <tr>\n",
       "      <th>...</th>\n",
       "      <td>...</td>\n",
       "      <td>...</td>\n",
       "      <td>...</td>\n",
       "      <td>...</td>\n",
       "      <td>...</td>\n",
       "      <td>...</td>\n",
       "      <td>...</td>\n",
       "      <td>...</td>\n",
       "      <td>...</td>\n",
       "      <td>...</td>\n",
       "      <td>...</td>\n",
       "      <td>...</td>\n",
       "      <td>...</td>\n",
       "      <td>...</td>\n",
       "      <td>...</td>\n",
       "    </tr>\n",
       "    <tr>\n",
       "      <th>10244</th>\n",
       "      <td>2020-07-01 07:00:00</td>\n",
       "      <td>0.102798</td>\n",
       "      <td>0.002612</td>\n",
       "      <td>0.105410</td>\n",
       "      <td>0.000000</td>\n",
       "      <td>1.0</td>\n",
       "      <td>6.000000</td>\n",
       "      <td>6.600000</td>\n",
       "      <td>0.0</td>\n",
       "      <td>0.0</td>\n",
       "      <td>0.0</td>\n",
       "      <td>2</td>\n",
       "      <td>2</td>\n",
       "      <td>7</td>\n",
       "      <td>2020</td>\n",
       "    </tr>\n",
       "    <tr>\n",
       "      <th>10245</th>\n",
       "      <td>2020-07-01 07:30:00</td>\n",
       "      <td>0.092111</td>\n",
       "      <td>0.010005</td>\n",
       "      <td>0.102116</td>\n",
       "      <td>0.000000</td>\n",
       "      <td>1.0</td>\n",
       "      <td>5.947889</td>\n",
       "      <td>6.521833</td>\n",
       "      <td>0.0</td>\n",
       "      <td>0.0</td>\n",
       "      <td>0.0</td>\n",
       "      <td>2</td>\n",
       "      <td>2</td>\n",
       "      <td>7</td>\n",
       "      <td>2020</td>\n",
       "    </tr>\n",
       "    <tr>\n",
       "      <th>10246</th>\n",
       "      <td>2020-07-01 08:00:00</td>\n",
       "      <td>0.093163</td>\n",
       "      <td>0.007402</td>\n",
       "      <td>0.100565</td>\n",
       "      <td>0.001018</td>\n",
       "      <td>1.0</td>\n",
       "      <td>5.800000</td>\n",
       "      <td>6.300000</td>\n",
       "      <td>0.0</td>\n",
       "      <td>0.0</td>\n",
       "      <td>0.0</td>\n",
       "      <td>2</td>\n",
       "      <td>2</td>\n",
       "      <td>7</td>\n",
       "      <td>2020</td>\n",
       "    </tr>\n",
       "    <tr>\n",
       "      <th>10247</th>\n",
       "      <td>2020-07-01 08:30:00</td>\n",
       "      <td>0.088124</td>\n",
       "      <td>0.002610</td>\n",
       "      <td>0.090734</td>\n",
       "      <td>0.034967</td>\n",
       "      <td>1.0</td>\n",
       "      <td>5.646187</td>\n",
       "      <td>6.146187</td>\n",
       "      <td>0.0</td>\n",
       "      <td>0.0</td>\n",
       "      <td>0.0</td>\n",
       "      <td>2</td>\n",
       "      <td>2</td>\n",
       "      <td>7</td>\n",
       "      <td>2020</td>\n",
       "    </tr>\n",
       "    <tr>\n",
       "      <th>10248</th>\n",
       "      <td>2020-07-01 09:00:00</td>\n",
       "      <td>0.051930</td>\n",
       "      <td>0.010013</td>\n",
       "      <td>0.061943</td>\n",
       "      <td>0.146271</td>\n",
       "      <td>1.0</td>\n",
       "      <td>5.233487</td>\n",
       "      <td>5.733487</td>\n",
       "      <td>0.0</td>\n",
       "      <td>0.0</td>\n",
       "      <td>0.0</td>\n",
       "      <td>2</td>\n",
       "      <td>2</td>\n",
       "      <td>7</td>\n",
       "      <td>2020</td>\n",
       "    </tr>\n",
       "  </tbody>\n",
       "</table>\n",
       "<p>10249 rows × 15 columns</p>\n",
       "</div>"
      ],
      "text/plain": [
       "                 timestamp  E_apparaten  E_warmtepomp  E_verbruik  overschot  \\\n",
       "0      2019-11-30 21:00:00     0.000000      0.000000    0.000000   0.000000   \n",
       "1      2019-11-30 21:30:00     0.012299      0.455955    0.468254   0.000000   \n",
       "2      2019-11-30 22:00:00     0.012543      0.464996    0.477539   0.000000   \n",
       "3      2019-11-30 22:30:00     0.023764      0.538520    0.562284   0.000000   \n",
       "4      2019-11-30 23:00:00     0.085571      0.608624    0.694196   0.000000   \n",
       "...                    ...          ...           ...         ...        ...   \n",
       "10244  2020-07-01 07:00:00     0.102798      0.002612    0.105410   0.000000   \n",
       "10245  2020-07-01 07:30:00     0.092111      0.010005    0.102116   0.000000   \n",
       "10246  2020-07-01 08:00:00     0.093163      0.007402    0.100565   0.001018   \n",
       "10247  2020-07-01 08:30:00     0.088124      0.002610    0.090734   0.034967   \n",
       "10248  2020-07-01 09:00:00     0.051930      0.010013    0.061943   0.146271   \n",
       "\n",
       "       hp_AAN  diff_temp_woonk  diff_temp_slaapk  Tussendeur  Buitendeur  \\\n",
       "0         0.0        19.300000         17.800000         1.0         0.0   \n",
       "1         1.0        19.594167         18.094167         1.0         0.0   \n",
       "2         1.0        20.286389         18.884444         1.0         0.0   \n",
       "3         1.0        20.790278         19.390278         1.0         0.0   \n",
       "4         1.0        19.427222         18.223333         1.0         0.0   \n",
       "...       ...              ...               ...         ...         ...   \n",
       "10244     1.0         6.000000          6.600000         0.0         0.0   \n",
       "10245     1.0         5.947889          6.521833         0.0         0.0   \n",
       "10246     1.0         5.800000          6.300000         0.0         0.0   \n",
       "10247     1.0         5.646187          6.146187         0.0         0.0   \n",
       "10248     1.0         5.233487          5.733487         0.0         0.0   \n",
       "\n",
       "       Raam  Dag  day_of_week  month  year  \n",
       "0       0.0    5            5     11  2019  \n",
       "1       0.0    5            5     11  2019  \n",
       "2       0.0    5            5     11  2019  \n",
       "3       0.0    5            5     11  2019  \n",
       "4       0.0    5            5     11  2019  \n",
       "...     ...  ...          ...    ...   ...  \n",
       "10244   0.0    2            2      7  2020  \n",
       "10245   0.0    2            2      7  2020  \n",
       "10246   0.0    2            2      7  2020  \n",
       "10247   0.0    2            2      7  2020  \n",
       "10248   0.0    2            2      7  2020  \n",
       "\n",
       "[10249 rows x 15 columns]"
      ]
     },
     "execution_count": 47,
     "metadata": {},
     "output_type": "execute_result"
    }
   ],
   "source": [
    "# Read in the data\n",
    "dfhp = pd.read_csv(\"../data/heatpump_clean_filtered.csv\")\n",
    "dfhp"
   ]
  },
  {
   "cell_type": "markdown",
   "metadata": {},
   "source": [
    "## Recap: mean, mode, median and variability\n",
    "\n",
    "Functions for calculating the mean, median and variability (or standard deviation, which is more convenient) of a a set of numbers can be found in the `numpy` package.\n",
    "\n",
    "There is no \"mode\" function in numpy."
   ]
  },
  {
   "cell_type": "code",
   "execution_count": 48,
   "metadata": {},
   "outputs": [
    {
     "name": "stdout",
     "output_type": "stream",
     "text": [
      "Mean: 3.0\n",
      "Median: 2.0\n",
      "Variance: 0.12244897959183675\n",
      "Standard deviation: 1.4142135623730951\n"
     ]
    }
   ],
   "source": [
    "# Statistics functions can be found in numpy:\n",
    "print(f'Mean: {np.mean([1, 2, 3, 4, 5])}')\n",
    "print(f'Median: {np.median([1, 1, 2, 3, 3])}')\n",
    "print(f'Variance: {np.var([1, 1, 1, 1, 1, 1, 2])}')\n",
    "print(f'Standard deviation: {np.std([1, 2, 3, 4, 5])}')\n",
    "# However, there is no \"mode\" function!\n",
    "# Nope: print(f'Mode: {np.mode([1, 2, 2, 3, 4])}')"
   ]
  },
  {
   "cell_type": "code",
   "execution_count": 49,
   "metadata": {},
   "outputs": [
    {
     "name": "stdout",
     "output_type": "stream",
     "text": [
      "Mean energy consumption: 0.2896702229964174\n",
      "Median energy consumption: 0.3158775840438466\n",
      "Variance in energy consumption: 0.02968122693230563\n",
      "Energy consumption standard deviation: 0.1722824045928824\n"
     ]
    }
   ],
   "source": [
    "# However, Pandas is nice enough to wrap these numpy functions so we can use them directly on our data frames:\n",
    "print(f'Mean energy consumption: {dfhp['E_verbruik'].mean()}')\n",
    "print(f'Median energy consumption: {dfhp['E_verbruik'].median()}')\n",
    "print(f'Variance in energy consumption: {dfhp['E_verbruik'].var()}')\n",
    "print(f'Energy consumption standard deviation: {dfhp['E_verbruik'].std()}')"
   ]
  },
  {
   "cell_type": "markdown",
   "metadata": {},
   "source": [
    "Pandas also has a convenient function that describes an entire data set with a single command:"
   ]
  },
  {
   "cell_type": "code",
   "execution_count": 13,
   "metadata": {},
   "outputs": [
    {
     "data": {
      "text/html": [
       "<div>\n",
       "<style scoped>\n",
       "    .dataframe tbody tr th:only-of-type {\n",
       "        vertical-align: middle;\n",
       "    }\n",
       "\n",
       "    .dataframe tbody tr th {\n",
       "        vertical-align: top;\n",
       "    }\n",
       "\n",
       "    .dataframe thead th {\n",
       "        text-align: right;\n",
       "    }\n",
       "</style>\n",
       "<table border=\"1\" class=\"dataframe\">\n",
       "  <thead>\n",
       "    <tr style=\"text-align: right;\">\n",
       "      <th></th>\n",
       "      <th>E_apparaten</th>\n",
       "      <th>E_warmtepomp</th>\n",
       "      <th>E_verbruik</th>\n",
       "      <th>overschot</th>\n",
       "      <th>hp_AAN</th>\n",
       "      <th>diff_temp_woonk</th>\n",
       "      <th>diff_temp_slaapk</th>\n",
       "      <th>Tussendeur</th>\n",
       "      <th>Buitendeur</th>\n",
       "      <th>Raam</th>\n",
       "      <th>Dag</th>\n",
       "      <th>day_of_week</th>\n",
       "      <th>month</th>\n",
       "      <th>year</th>\n",
       "    </tr>\n",
       "  </thead>\n",
       "  <tbody>\n",
       "    <tr>\n",
       "      <th>count</th>\n",
       "      <td>10249.000000</td>\n",
       "      <td>10249.000000</td>\n",
       "      <td>10249.000000</td>\n",
       "      <td>10249.000000</td>\n",
       "      <td>10249.000000</td>\n",
       "      <td>10249.000000</td>\n",
       "      <td>10249.000000</td>\n",
       "      <td>10249.000000</td>\n",
       "      <td>10249.000000</td>\n",
       "      <td>10249.000000</td>\n",
       "      <td>10249.000000</td>\n",
       "      <td>10249.000000</td>\n",
       "      <td>10249.000000</td>\n",
       "      <td>10249.000000</td>\n",
       "    </tr>\n",
       "    <tr>\n",
       "      <th>mean</th>\n",
       "      <td>0.083537</td>\n",
       "      <td>0.206134</td>\n",
       "      <td>0.289670</td>\n",
       "      <td>0.237514</td>\n",
       "      <td>0.999902</td>\n",
       "      <td>10.913430</td>\n",
       "      <td>9.020691</td>\n",
       "      <td>0.067811</td>\n",
       "      <td>0.095034</td>\n",
       "      <td>0.250463</td>\n",
       "      <td>2.989950</td>\n",
       "      <td>2.989950</td>\n",
       "      <td>4.744951</td>\n",
       "      <td>2019.854230</td>\n",
       "    </tr>\n",
       "    <tr>\n",
       "      <th>std</th>\n",
       "      <td>0.057391</td>\n",
       "      <td>0.172998</td>\n",
       "      <td>0.172282</td>\n",
       "      <td>0.419715</td>\n",
       "      <td>0.009878</td>\n",
       "      <td>5.576968</td>\n",
       "      <td>5.142348</td>\n",
       "      <td>0.251434</td>\n",
       "      <td>0.293276</td>\n",
       "      <td>0.433301</td>\n",
       "      <td>2.010365</td>\n",
       "      <td>2.010365</td>\n",
       "      <td>3.389054</td>\n",
       "      <td>0.352893</td>\n",
       "    </tr>\n",
       "    <tr>\n",
       "      <th>min</th>\n",
       "      <td>-0.215998</td>\n",
       "      <td>0.000000</td>\n",
       "      <td>-0.212472</td>\n",
       "      <td>0.000000</td>\n",
       "      <td>0.000000</td>\n",
       "      <td>-9.090117</td>\n",
       "      <td>-10.168333</td>\n",
       "      <td>0.000000</td>\n",
       "      <td>0.000000</td>\n",
       "      <td>0.000000</td>\n",
       "      <td>0.000000</td>\n",
       "      <td>0.000000</td>\n",
       "      <td>1.000000</td>\n",
       "      <td>2019.000000</td>\n",
       "    </tr>\n",
       "    <tr>\n",
       "      <th>25%</th>\n",
       "      <td>0.048700</td>\n",
       "      <td>0.010010</td>\n",
       "      <td>0.118801</td>\n",
       "      <td>0.000000</td>\n",
       "      <td>1.000000</td>\n",
       "      <td>7.652526</td>\n",
       "      <td>6.495614</td>\n",
       "      <td>0.000000</td>\n",
       "      <td>0.000000</td>\n",
       "      <td>0.000000</td>\n",
       "      <td>1.000000</td>\n",
       "      <td>1.000000</td>\n",
       "      <td>2.000000</td>\n",
       "      <td>2020.000000</td>\n",
       "    </tr>\n",
       "    <tr>\n",
       "      <th>50%</th>\n",
       "      <td>0.080578</td>\n",
       "      <td>0.237776</td>\n",
       "      <td>0.315878</td>\n",
       "      <td>0.002295</td>\n",
       "      <td>1.000000</td>\n",
       "      <td>11.947830</td>\n",
       "      <td>9.678827</td>\n",
       "      <td>0.000000</td>\n",
       "      <td>0.000000</td>\n",
       "      <td>0.000000</td>\n",
       "      <td>3.000000</td>\n",
       "      <td>3.000000</td>\n",
       "      <td>4.000000</td>\n",
       "      <td>2020.000000</td>\n",
       "    </tr>\n",
       "    <tr>\n",
       "      <th>75%</th>\n",
       "      <td>0.102569</td>\n",
       "      <td>0.341597</td>\n",
       "      <td>0.411410</td>\n",
       "      <td>0.282229</td>\n",
       "      <td>1.000000</td>\n",
       "      <td>14.900000</td>\n",
       "      <td>12.440873</td>\n",
       "      <td>0.000000</td>\n",
       "      <td>0.000000</td>\n",
       "      <td>1.000000</td>\n",
       "      <td>5.000000</td>\n",
       "      <td>5.000000</td>\n",
       "      <td>6.000000</td>\n",
       "      <td>2020.000000</td>\n",
       "    </tr>\n",
       "    <tr>\n",
       "      <th>max</th>\n",
       "      <td>1.348056</td>\n",
       "      <td>0.996969</td>\n",
       "      <td>1.357693</td>\n",
       "      <td>2.067762</td>\n",
       "      <td>1.000000</td>\n",
       "      <td>24.827620</td>\n",
       "      <td>24.232867</td>\n",
       "      <td>1.000000</td>\n",
       "      <td>1.000000</td>\n",
       "      <td>1.000000</td>\n",
       "      <td>6.000000</td>\n",
       "      <td>6.000000</td>\n",
       "      <td>12.000000</td>\n",
       "      <td>2020.000000</td>\n",
       "    </tr>\n",
       "  </tbody>\n",
       "</table>\n",
       "</div>"
      ],
      "text/plain": [
       "        E_apparaten  E_warmtepomp    E_verbruik     overschot        hp_AAN  \\\n",
       "count  10249.000000  10249.000000  10249.000000  10249.000000  10249.000000   \n",
       "mean       0.083537      0.206134      0.289670      0.237514      0.999902   \n",
       "std        0.057391      0.172998      0.172282      0.419715      0.009878   \n",
       "min       -0.215998      0.000000     -0.212472      0.000000      0.000000   \n",
       "25%        0.048700      0.010010      0.118801      0.000000      1.000000   \n",
       "50%        0.080578      0.237776      0.315878      0.002295      1.000000   \n",
       "75%        0.102569      0.341597      0.411410      0.282229      1.000000   \n",
       "max        1.348056      0.996969      1.357693      2.067762      1.000000   \n",
       "\n",
       "       diff_temp_woonk  diff_temp_slaapk    Tussendeur    Buitendeur  \\\n",
       "count     10249.000000      10249.000000  10249.000000  10249.000000   \n",
       "mean         10.913430          9.020691      0.067811      0.095034   \n",
       "std           5.576968          5.142348      0.251434      0.293276   \n",
       "min          -9.090117        -10.168333      0.000000      0.000000   \n",
       "25%           7.652526          6.495614      0.000000      0.000000   \n",
       "50%          11.947830          9.678827      0.000000      0.000000   \n",
       "75%          14.900000         12.440873      0.000000      0.000000   \n",
       "max          24.827620         24.232867      1.000000      1.000000   \n",
       "\n",
       "               Raam           Dag   day_of_week         month          year  \n",
       "count  10249.000000  10249.000000  10249.000000  10249.000000  10249.000000  \n",
       "mean       0.250463      2.989950      2.989950      4.744951   2019.854230  \n",
       "std        0.433301      2.010365      2.010365      3.389054      0.352893  \n",
       "min        0.000000      0.000000      0.000000      1.000000   2019.000000  \n",
       "25%        0.000000      1.000000      1.000000      2.000000   2020.000000  \n",
       "50%        0.000000      3.000000      3.000000      4.000000   2020.000000  \n",
       "75%        1.000000      5.000000      5.000000      6.000000   2020.000000  \n",
       "max        1.000000      6.000000      6.000000     12.000000   2020.000000  "
      ]
     },
     "execution_count": 13,
     "metadata": {},
     "output_type": "execute_result"
    }
   ],
   "source": [
    "# Command for describing an entire data set (also works on a single column).\n",
    "dfhp.describe()"
   ]
  },
  {
   "cell_type": "markdown",
   "metadata": {},
   "source": [
    "## Distributions and distribution shapes\n",
    "\n",
    "Looking at the numbers for the energy consumption column for all devices including the heat pump (E_verbruik) what can we tell about the way these values are distributed? Compare the mean to the standard deviation (std).\n",
    "\n",
    "Further investigation is warranted. Plot a histogram of the E_verbruik column. Increase the number of bins until can confidently describe the shape of the distribution for this variable.\n",
    "\n",
    "Also spend some time thinking about what the shape of this distribution tells us about the data."
   ]
  },
  {
   "cell_type": "code",
   "execution_count": 14,
   "metadata": {},
   "outputs": [],
   "source": [
    "# Your code goes here.\n",
    "\n"
   ]
  },
  {
   "cell_type": "markdown",
   "metadata": {},
   "source": [
    "## Outliers\n",
    "\n",
    "Examine the histogram. Do you detect any outliers? What is their effect on the shape of the distribution? Can you think of a different graph type to make it more obvious that these are, indeed, outliers?"
   ]
  },
  {
   "cell_type": "code",
   "execution_count": 15,
   "metadata": {},
   "outputs": [],
   "source": [
    "# Place your code here for a graph that makes it more obvious that we're dealing with outliers.\n",
    "\n"
   ]
  },
  {
   "cell_type": "markdown",
   "metadata": {},
   "source": [
    "Spend some time thinking about what these outliers could be. Do you want to remove them from the data set or do you want to keep them in?"
   ]
  },
  {
   "cell_type": "markdown",
   "metadata": {},
   "source": [
    "### What is an outlier anyway?\n",
    "\n",
    "For normally distributed samples, the data points that matplotlib box plots mark as outliers lie beyond what is called IQR (interquartile range) times 1.5 added to the third quartile point (Q3). In many cases, this range is small enough that treating these data points as outliers is sensible.\n",
    "\n",
    "<img src=\"img/boxplot_ranges.png\" width=\"25%\" title=\"Box plot ranges vs normal distribution\" />\n",
    "\n",
    "\n",
    "<small>Relationship between the normal distribution and box plots. Source: https://commons.wikimedia.org/wiki/File:Boxplot_vs_PDF.svg</small>\n",
    "\n",
    "However, not all distributions are normally distributed. Let's take a look at the distribution of the E_warmptepomp variable that records the energy use of the heat pump itself.\n"
   ]
  },
  {
   "cell_type": "code",
   "execution_count": 50,
   "metadata": {},
   "outputs": [
    {
     "data": {
      "image/png": "[encoded data removed]",
      "text/plain": [
       "<Figure size 640x480 with 1 Axes>"
      ]
     },
     "metadata": {},
     "output_type": "display_data"
    }
   ],
   "source": [
    "# The distribution of the E_warmtepomp variable (heat pump energy use.)\n",
    "dfhp['E_warmtepomp'].plot.box(title=\"Distribution of the 'E_warmptepomp' variable\", xlabel=\"Heat pump energy use (kWh)\", ylabel=\"Frequency\")\n",
    "plt.show()\n"
   ]
  },
  {
   "cell_type": "markdown",
   "metadata": {},
   "source": [
    "Clearly this distribution is skewed. Throughout most of the recorded period the heat pump used comparatively little energy and in a small but wide range it used a lot more. Why?\n",
    "\n",
    "Plot a histogram of the E_warmtepomp variable to take a closer look at the variable. Play with the bins setting until you feel confident you have a clear picture of the distribution shape."
   ]
  },
  {
   "cell_type": "code",
   "execution_count": 17,
   "metadata": {},
   "outputs": [],
   "source": [
    "# Your code goes here.\n"
   ]
  },
  {
   "cell_type": "markdown",
   "metadata": {},
   "source": [
    "### Is it safe to throw the outliers out?\n",
    "The number of data points where energy used is high is small, but at these points the amount of energy used is more than twice the median value. Since energy used is what one tends to be interested in when looking at heat pump data, it's instructive to calculate the total percentage of energy used by the data points in question. This tells us what the **impact** is of the outliers on the entire data set.\n",
    "\n",
    "The code for this is below. Play around with the cutoff variable to determine at what point discarding outliers is safe."
   ]
  },
  {
   "cell_type": "code",
   "execution_count": 51,
   "metadata": {},
   "outputs": [
    {
     "name": "stdout",
     "output_type": "stream",
     "text": [
      "Outliers above cutoff value of 0.8 kWh use  0.39% of the total energy used.\n"
     ]
    }
   ],
   "source": [
    "# Let's calculate how much of the energy use of the heat pump is caused by the so-called outliers\n",
    "# Note the use of a variable to allow us to play around with the settings without changing the formula code.\n",
    "# Note also the use of exceptionally long variable names. These are terrible to type, but make the code\n",
    "# much, much easier to read. This is important when you revisit your code at some later date and you've\n",
    "# forgotten how it works.\n",
    "cutoff = 0.8 # Value above which a datapoint is considered to be an outlier\n",
    "\n",
    "outlier_energy_usage = dfhp['E_warmtepomp'].loc[(dfhp['E_warmtepomp'] > cutoff)].sum()\n",
    "non_outlier_energy_usage = dfhp['E_warmtepomp'].loc[(dfhp['E_warmtepomp'] <= cutoff)].sum()\n",
    "outlier_energy_usage_percentage = 100.0 * (outlier_energy_usage / (outlier_energy_usage + non_outlier_energy_usage))\n",
    "print(f\"Outliers above cutoff value of {cutoff} kWh use {outlier_energy_usage_percentage : .2f}% of the total energy used.\")\n"
   ]
  },
  {
   "cell_type": "markdown",
   "metadata": {},
   "source": [
    "What do you think? Should we throw the outliers out or should we leave them in?"
   ]
  },
  {
   "cell_type": "markdown",
   "metadata": {},
   "source": [
    "## Calculating correlation\n",
    "\n",
    "Since we're dealing with heat pump energy use data, a sensible hypothesis would be that energy use is in some way related to the outside temperature.\n",
    "\n",
    "Unfortunately, this is not available to us. We'll have to make do with:\n",
    "\n",
    "- diff_temp_woonk: temperature living room (difference with outside temperature)\n",
    "- diff_temp_slaapk: temperature bedroom (difference with outside temperature)\n",
    "\n",
    "Let's pick the temperature of the living room. Plot the relationship between E_warmtepomp (energy usage) and living room temperature using a scatter plot."
   ]
  },
  {
   "cell_type": "code",
   "execution_count": 164,
   "metadata": {},
   "outputs": [],
   "source": [
    "# Your code goes here:\n",
    "\n"
   ]
  },
  {
   "cell_type": "markdown",
   "metadata": {},
   "source": [
    "There seems to be some sort of relationship but there is a lot of variation in the data suggesting there is more going on than simply \"temperature goes up, energy use down\" (remember that the temperature columns record the *difference* between the outside temperature and the inside temperature, so higher values mean the outside temperature is colder).\n",
    "\n",
    "What could account for the variation? One possible answer is that the heat pump only uses energy when it needs to do some work. However, it does not need to do this continuously, even on very cold days. Walls and furniture retain heat, so once they're properly heated up, the heat pump can scale back.\n",
    "\n",
    "To test the hypothesis that the heat pump does not work continuously, let's draw a line graph of its energy use. Since there are more than 100,000 records, plotting *all* values is not a good idea. Instead, plot data for, say, the first seven days of month of February in 2020."
   ]
  },
  {
   "cell_type": "code",
   "execution_count": 165,
   "metadata": {},
   "outputs": [
    {
     "data": {
      "image/png": "[encoded data removed]",
      "text/plain": [
       "<Figure size 640x480 with 1 Axes>"
      ]
     },
     "metadata": {},
     "output_type": "display_data"
    }
   ],
   "source": [
    "# The data set does not contain day numbers (only week day numbers).\n",
    "# We need to convert the \"Timestamp\" column to a proper timestamp datatype\n",
    "# so we can extract the day of the month from it.\n",
    "dfhp['ts_fixed'] = pd.to_datetime(dfhp['timestamp'])\n",
    "dfhp['day_month'] = dfhp['ts_fixed'].dt.day\n",
    "# To make nicer x axis labels, create a column containing the date only, as a string.\n",
    "dfhp['date_string'] = dfhp['year'].astype('str') + '-' + dfhp['month'].astype('str').str.zfill(2)  + '-' + dfhp['day_month'].astype('str').str.zfill(2)\n",
    "                        \n",
    "\n",
    "# Which year to show?\n",
    "year = 2020\n",
    "# Which month to show?\n",
    "month = 2\n",
    "# How many days to show?\n",
    "num_days = 7\n",
    "\n",
    "# Looking at the CSV data, we know there are data points recorded every 30 minutes.\n",
    "# Use this knowledge to set the number of data points per day. We need this to create a readable x axis.\n",
    "num_ticks_day = 48 # 24 * 2 data points per hour.\n",
    "\n",
    "dfhp_feb_wk1 = dfhp.loc[(dfhp['year'] == year) & (dfhp['month'] == month) & (dfhp['day_month'] <= num_days)]\n",
    "fig, ax = plt.subplots()\n",
    "plt.plot(dfhp_feb_wk1['timestamp'], dfhp_feb_wk1['E_warmtepomp'])\n",
    "ax.set_title(\"Heat pump energy use in first week of February 2020\")\n",
    "ax.set_ylabel(\"Energy use (kWh)\")\n",
    "ax.set_xlabel(\"Date\")\n",
    "\n",
    "# Make the x axis readable.\n",
    "import matplotlib.ticker as ticker\n",
    "# Use the nicely formatted date for the labels. Doing it this way\n",
    "# causes a warning. This is ugly, so supress it. Notice we only supress \n",
    "# warnings temporarily\n",
    "import warnings\n",
    "warnings.filterwarnings(\"ignore\")\n",
    "ax.set_xticklabels(dfhp['date_string']) # Use the nicely formatted date for the labels.\n",
    "warnings.filterwarnings(\"default\") # Stop hiding warnings\n",
    "# We *do*, however, want to hide Pandas' future warnings (see above.)\n",
    "warnings.simplefilter(action='ignore', category=FutureWarning)\n",
    "\n",
    "ax.xaxis.set_major_locator(ticker.MultipleLocator(base=num_ticks_day))\n",
    "ax.tick_params(axis = 'x', labelrotation = 90)\n",
    "\n",
    "# Normally we do not want to see a grid because it's distracting.\n",
    "# In this case, marking off individual days is actually helpful, so show them.\n",
    "plt.grid(visible = True, which = 'major', axis = 'x', alpha = 0.25)\n",
    "\n",
    "plt.show()\n"
   ]
  },
  {
   "cell_type": "markdown",
   "metadata": {},
   "source": [
    "Heat pump energy usage fluctuates during the day. This means the individual data points are not really usable.\n",
    "\n",
    "What we need to do is summarize the data in some way. For this we're going to use the - very powerful - Pandas `groupby` feature."
   ]
  },
  {
   "cell_type": "markdown",
   "metadata": {},
   "source": [
    "### Summarizing data using groupby\n",
    "\n",
    "As said, individual data points are not really useful if we want to study correlations between energy use and the other variables. It's much more useful to look at energy use for an entire day. What we want to do is to sum all the readings for a specific day. This gives us the total energy use for that day.\n",
    "\n",
    "When we do this, we also need to think about what we need to do with the living room temperature. Should we sum that too? Or should we take the average? How about the minimum and the maximum values?\n",
    "\n",
    "Let's just calculate all of those values so we are free to pick the most useful one later.\n",
    "\n",
    "To summarize values like this, we need to use the `groupby` feature of Pandas. `groupby` works as follows: \n",
    "1. You tell Pandas which column contains the values you want to group by.\n",
    "2. You tell Pandas which function you want to use to summarize the values in the other columns for each group: `min()`, `max()`, `sum()`, `mean()`, etc.\n",
    "\n",
    "The result is a grouped data frame with multiple levels, as we see here."
   ]
  },
  {
   "cell_type": "code",
   "execution_count": 166,
   "metadata": {},
   "outputs": [
    {
     "data": {
      "text/html": [
       "<div>\n",
       "<style scoped>\n",
       "    .dataframe tbody tr th:only-of-type {\n",
       "        vertical-align: middle;\n",
       "    }\n",
       "\n",
       "    .dataframe tbody tr th {\n",
       "        vertical-align: top;\n",
       "    }\n",
       "\n",
       "    .dataframe thead th {\n",
       "        text-align: right;\n",
       "    }\n",
       "</style>\n",
       "<table border=\"1\" class=\"dataframe\">\n",
       "  <thead>\n",
       "    <tr style=\"text-align: right;\">\n",
       "      <th></th>\n",
       "      <th>E_warmtepomp</th>\n",
       "      <th>diff_temp_woonk</th>\n",
       "    </tr>\n",
       "    <tr>\n",
       "      <th>date_string</th>\n",
       "      <th></th>\n",
       "      <th></th>\n",
       "    </tr>\n",
       "  </thead>\n",
       "  <tbody>\n",
       "    <tr>\n",
       "      <th>2019-11-30</th>\n",
       "      <td>2.570234</td>\n",
       "      <td>119.582500</td>\n",
       "    </tr>\n",
       "    <tr>\n",
       "      <th>2019-12-01</th>\n",
       "      <td>30.729847</td>\n",
       "      <td>946.442791</td>\n",
       "    </tr>\n",
       "    <tr>\n",
       "      <th>2019-12-02</th>\n",
       "      <td>24.642481</td>\n",
       "      <td>829.882652</td>\n",
       "    </tr>\n",
       "    <tr>\n",
       "      <th>2019-12-03</th>\n",
       "      <td>18.580892</td>\n",
       "      <td>732.335456</td>\n",
       "    </tr>\n",
       "    <tr>\n",
       "      <th>2019-12-04</th>\n",
       "      <td>20.895484</td>\n",
       "      <td>864.947363</td>\n",
       "    </tr>\n",
       "    <tr>\n",
       "      <th>...</th>\n",
       "      <td>...</td>\n",
       "      <td>...</td>\n",
       "    </tr>\n",
       "    <tr>\n",
       "      <th>2020-06-27</th>\n",
       "      <td>1.119869</td>\n",
       "      <td>94.258613</td>\n",
       "    </tr>\n",
       "    <tr>\n",
       "      <th>2020-06-28</th>\n",
       "      <td>0.820068</td>\n",
       "      <td>284.394612</td>\n",
       "    </tr>\n",
       "    <tr>\n",
       "      <th>2020-06-29</th>\n",
       "      <td>1.349858</td>\n",
       "      <td>323.214165</td>\n",
       "    </tr>\n",
       "    <tr>\n",
       "      <th>2020-06-30</th>\n",
       "      <td>1.497386</td>\n",
       "      <td>313.691793</td>\n",
       "    </tr>\n",
       "    <tr>\n",
       "      <th>2020-07-01</th>\n",
       "      <td>0.122729</td>\n",
       "      <td>122.303011</td>\n",
       "    </tr>\n",
       "  </tbody>\n",
       "</table>\n",
       "<p>215 rows × 2 columns</p>\n",
       "</div>"
      ],
      "text/plain": [
       "             E_warmtepomp  diff_temp_woonk\n",
       "date_string                               \n",
       "2019-11-30       2.570234       119.582500\n",
       "2019-12-01      30.729847       946.442791\n",
       "2019-12-02      24.642481       829.882652\n",
       "2019-12-03      18.580892       732.335456\n",
       "2019-12-04      20.895484       864.947363\n",
       "...                   ...              ...\n",
       "2020-06-27       1.119869        94.258613\n",
       "2020-06-28       0.820068       284.394612\n",
       "2020-06-29       1.349858       323.214165\n",
       "2020-06-30       1.497386       313.691793\n",
       "2020-07-01       0.122729       122.303011\n",
       "\n",
       "[215 rows x 2 columns]"
      ]
     },
     "execution_count": 166,
     "metadata": {},
     "output_type": "execute_result"
    }
   ],
   "source": [
    "# First we need to create a new data frame that contains only the columns we want.\n",
    "# The reason we need to do this is that the original data set contains columns that\n",
    "# can not be summarized using min(), max(), sum() etc (there is no such thing as \n",
    "# a sum of multiple time stamps, for example).\n",
    "dfhp_summary = dfhp[['date_string', 'E_warmtepomp', 'diff_temp_woonk']]\n",
    "dfhp_summary.groupby(by='date_string').sum() # Summing temperatures is nonsense, of course, but for this example we don't care."
   ]
  },
  {
   "cell_type": "markdown",
   "metadata": {},
   "source": [
    "As you see, the output of the `groupby` function is a data frame with two header rows. This might become inconvenient later, but for now we're going to ignore this.\n",
    "\n",
    "We have a more pressing problem: while the `sum` function is great for summarizing energy use per day, summing temperatures for a whole day is nonsense. What we want instead is to use a different summary function for the temperature. Let's say we take the arithmetic mean for now."
   ]
  },
  {
   "cell_type": "code",
   "execution_count": 68,
   "metadata": {},
   "outputs": [
    {
     "data": {
      "text/html": [
       "<div>\n",
       "<style scoped>\n",
       "    .dataframe tbody tr th:only-of-type {\n",
       "        vertical-align: middle;\n",
       "    }\n",
       "\n",
       "    .dataframe tbody tr th {\n",
       "        vertical-align: top;\n",
       "    }\n",
       "\n",
       "    .dataframe thead th {\n",
       "        text-align: right;\n",
       "    }\n",
       "</style>\n",
       "<table border=\"1\" class=\"dataframe\">\n",
       "  <thead>\n",
       "    <tr style=\"text-align: right;\">\n",
       "      <th></th>\n",
       "      <th>total_energy</th>\n",
       "      <th>avg_temp_diff</th>\n",
       "    </tr>\n",
       "    <tr>\n",
       "      <th>date_string</th>\n",
       "      <th></th>\n",
       "      <th></th>\n",
       "    </tr>\n",
       "  </thead>\n",
       "  <tbody>\n",
       "    <tr>\n",
       "      <th>2019-11-30</th>\n",
       "      <td>2.570234</td>\n",
       "      <td>19.930417</td>\n",
       "    </tr>\n",
       "    <tr>\n",
       "      <th>2019-12-01</th>\n",
       "      <td>30.729847</td>\n",
       "      <td>19.717558</td>\n",
       "    </tr>\n",
       "    <tr>\n",
       "      <th>2019-12-02</th>\n",
       "      <td>24.642481</td>\n",
       "      <td>17.289222</td>\n",
       "    </tr>\n",
       "    <tr>\n",
       "      <th>2019-12-03</th>\n",
       "      <td>18.580892</td>\n",
       "      <td>15.256989</td>\n",
       "    </tr>\n",
       "    <tr>\n",
       "      <th>2019-12-04</th>\n",
       "      <td>20.895484</td>\n",
       "      <td>18.019737</td>\n",
       "    </tr>\n",
       "    <tr>\n",
       "      <th>...</th>\n",
       "      <td>...</td>\n",
       "      <td>...</td>\n",
       "    </tr>\n",
       "    <tr>\n",
       "      <th>2020-06-27</th>\n",
       "      <td>1.119869</td>\n",
       "      <td>1.963721</td>\n",
       "    </tr>\n",
       "    <tr>\n",
       "      <th>2020-06-28</th>\n",
       "      <td>0.820068</td>\n",
       "      <td>5.924888</td>\n",
       "    </tr>\n",
       "    <tr>\n",
       "      <th>2020-06-29</th>\n",
       "      <td>1.349858</td>\n",
       "      <td>6.733628</td>\n",
       "    </tr>\n",
       "    <tr>\n",
       "      <th>2020-06-30</th>\n",
       "      <td>1.497386</td>\n",
       "      <td>6.535246</td>\n",
       "    </tr>\n",
       "    <tr>\n",
       "      <th>2020-07-01</th>\n",
       "      <td>0.122729</td>\n",
       "      <td>6.437001</td>\n",
       "    </tr>\n",
       "  </tbody>\n",
       "</table>\n",
       "<p>215 rows × 2 columns</p>\n",
       "</div>"
      ],
      "text/plain": [
       "             total_energy  avg_temp_diff\n",
       "date_string                             \n",
       "2019-11-30       2.570234      19.930417\n",
       "2019-12-01      30.729847      19.717558\n",
       "2019-12-02      24.642481      17.289222\n",
       "2019-12-03      18.580892      15.256989\n",
       "2019-12-04      20.895484      18.019737\n",
       "...                   ...            ...\n",
       "2020-06-27       1.119869       1.963721\n",
       "2020-06-28       0.820068       5.924888\n",
       "2020-06-29       1.349858       6.733628\n",
       "2020-06-30       1.497386       6.535246\n",
       "2020-07-01       0.122729       6.437001\n",
       "\n",
       "[215 rows x 2 columns]"
      ]
     },
     "execution_count": 68,
     "metadata": {},
     "output_type": "execute_result"
    }
   ],
   "source": [
    "# Using multiple aggregation functions. Notice use of NumPy functions instead\n",
    "# of Pandas functions for sum and mean\n",
    "dfhp_summary.groupby(by='date_string').agg(\n",
    "    total_energy = ('E_warmtepomp', np.sum),\n",
    "    avg_temp_diff = ('diff_temp_woonk', np.mean)\n",
    ")"
   ]
  },
  {
   "cell_type": "markdown",
   "metadata": {},
   "source": [
    "Now make a new scatter plot that shows the relationship between energy use and temperature."
   ]
  },
  {
   "cell_type": "code",
   "execution_count": 168,
   "metadata": {},
   "outputs": [],
   "source": [
    "# Make a new data frame containing the summary\n",
    "df_summ = dfhp_summary.groupby(by='date_string').agg(\n",
    "    total_energy = ('E_warmtepomp', np.sum),\n",
    "    avg_temp_diff = ('diff_temp_woonk', np.mean)\n",
    ")\n",
    "# Your code goes here:\n",
    "\n",
    "\n"
   ]
  },
  {
   "cell_type": "markdown",
   "metadata": {},
   "source": [
    "Much better. There seems to be a clear relationship between temperature and energy use (it's inverted because the temperature is the *difference* between inside and outside temperatures)."
   ]
  },
  {
   "cell_type": "markdown",
   "metadata": {},
   "source": [
    "### Pearson's correlation coefficient\n",
    "\n",
    "How strong is the relationship between temperature difference and energy use?\n",
    "\n",
    "Our first instinct might be to simply calculate Pearson's correlation coefficient. And this instinct would be wrong. Why?\n",
    "\n",
    "Let's calculate Pearson's correlation coefficient anyway, just because we can:"
   ]
  },
  {
   "cell_type": "code",
   "execution_count": 169,
   "metadata": {},
   "outputs": [
    {
     "name": "stdout",
     "output_type": "stream",
     "text": [
      "Pearson's correlation coefficient is 0.845590029131639\n"
     ]
    }
   ],
   "source": [
    "# Calculate Pearson's correlation coefficient anyway.\n",
    "\n",
    "print(f\"Pearson's correlation coefficient is {df_summ['total_energy'].corr(df_summ['avg_temp_diff'])}\")\n",
    "\n"
   ]
  },
  {
   "cell_type": "markdown",
   "metadata": {},
   "source": [
    "It's possible to create really fancy correlation matrices, too. In this case that would be useless, but it's nice to now how to do this for data sets that have multiple variables that you want to examine. Here are some examples:"
   ]
  },
  {
   "cell_type": "code",
   "execution_count": 77,
   "metadata": {},
   "outputs": [
    {
     "data": {
      "text/html": [
       "<div>\n",
       "<style scoped>\n",
       "    .dataframe tbody tr th:only-of-type {\n",
       "        vertical-align: middle;\n",
       "    }\n",
       "\n",
       "    .dataframe tbody tr th {\n",
       "        vertical-align: top;\n",
       "    }\n",
       "\n",
       "    .dataframe thead th {\n",
       "        text-align: right;\n",
       "    }\n",
       "</style>\n",
       "<table border=\"1\" class=\"dataframe\">\n",
       "  <thead>\n",
       "    <tr style=\"text-align: right;\">\n",
       "      <th></th>\n",
       "      <th>total_energy</th>\n",
       "      <th>avg_temp_diff</th>\n",
       "    </tr>\n",
       "  </thead>\n",
       "  <tbody>\n",
       "    <tr>\n",
       "      <th>total_energy</th>\n",
       "      <td>1.00000</td>\n",
       "      <td>0.84559</td>\n",
       "    </tr>\n",
       "    <tr>\n",
       "      <th>avg_temp_diff</th>\n",
       "      <td>0.84559</td>\n",
       "      <td>1.00000</td>\n",
       "    </tr>\n",
       "  </tbody>\n",
       "</table>\n",
       "</div>"
      ],
      "text/plain": [
       "               total_energy  avg_temp_diff\n",
       "total_energy        1.00000        0.84559\n",
       "avg_temp_diff       0.84559        1.00000"
      ]
     },
     "execution_count": 77,
     "metadata": {},
     "output_type": "execute_result"
    }
   ],
   "source": [
    "# Panda's has a basic correlation matrix built in.\n",
    "df_summ[['total_energy', 'avg_temp_diff']].corr()\n"
   ]
  },
  {
   "cell_type": "code",
   "execution_count": 83,
   "metadata": {},
   "outputs": [
    {
     "data": {
      "text/plain": [
       "<Axes: >"
      ]
     },
     "execution_count": 83,
     "metadata": {},
     "output_type": "execute_result"
    },
    {
     "data": {
      "image/png": "[encoded data removed]",
      "text/plain": [
       "<Figure size 640x480 with 2 Axes>"
      ]
     },
     "metadata": {},
     "output_type": "display_data"
    }
   ],
   "source": [
    "# To create a nice heatmap correlation matrix, you need Seaborn.\n",
    "# Here is an example using (part of) the original data set\n",
    "# (because the summary doesn't have enough columns)\n",
    "corr = dfhp[['E_apparaten', 'E_warmtepomp',\t'E_verbruik', 'overschot', 'diff_temp_woonk', 'diff_temp_slaapk', 'Tussendeur', 'Buitendeur', 'Raam']].corr()\n",
    "import seaborn as sns\n",
    "sns.heatmap(corr)"
   ]
  },
  {
   "cell_type": "markdown",
   "metadata": {},
   "source": [
    "There are certainly cases where a colorful correlation matrix is useful. This is not one of them (obviously total energy use - \"E-verbruik\" - is correlated with heat pump energy use - just as the temperature difference between the living room and the outside - diff_temp_woonk - is likely to be correlated to that in the bedroom - diff_temp_slaapk). But other than that, this correlation matrix for all the numeric values in the original data set doesn't tell us anything.\n",
    "\n",
    "Let's return to the correlation in the summarized data set between total energy used (by the heat pump) and the average difference between living room temperature and outside temperature. It is very high (anything above .7 is high). Lazy data scientists look at this number and call it a day: heat pump energy use is strongly correlated to the difference between inside temperature and outside temperature. Done.\n",
    "\n",
    "We, however, are not lazy data scientists. Before we make statements like this *we* want to make sure it's a good idea to calculate this correlation coefficient in the first place."
   ]
  },
  {
   "cell_type": "markdown",
   "metadata": {},
   "source": [
    "### Is the relationship linear?\n",
    "\n",
    "Pearson's correlation coefficient measures the *linear* correlation between to sets of data points. Mathematically speaking this number is meaningless if the relationship *is not* linear.\n",
    "\n",
    "Looking back at the scatter plot above that showed energy use versus temperature difference we can see the relationship is *somewhat* linear but not quite.\n",
    "\n",
    "What we want to know is: how non-linear is it, exactly?\n",
    "\n"
   ]
  },
  {
   "cell_type": "markdown",
   "metadata": {},
   "source": [
    "#### QQ Plots\n",
    "\n",
    "If the relationship between temperature difference and energy use is linear, we expect the distribution of the values among the quartiles to be the same for both variables. We also expect this distribution to be even for both variables.\n",
    "\n",
    "To check the distribution of variables in multiple distributions we use something called a QQ (quantile-quantile) plot.\n",
    "\n",
    "The statsmodels library contains a useful function for plotting a QQ-plot for a single variable. This plot shows you how the values for that variable are distributed among the percentiles / quartiles."
   ]
  },
  {
   "cell_type": "code",
   "execution_count": 114,
   "metadata": {},
   "outputs": [
    {
     "data": {
      "image/png": "[encoded data removed]",
      "text/plain": [
       "<Figure size 640x480 with 1 Axes>"
      ]
     },
     "metadata": {},
     "output_type": "display_data"
    }
   ],
   "source": [
    "fig, ax = plt.subplots()\n",
    "\n",
    "sm.qqplot(df_summ['total_energy'], line ='45', fit = True, ax = ax) \n",
    "ax.set_title('Distribution of values for total_energy variable')\n",
    "plt.show()\n",
    "\n",
    "\n"
   ]
  },
  {
   "cell_type": "markdown",
   "metadata": {},
   "source": [
    "It is possible to create QQ plots for the *relationship* between two variables. Here is an example."
   ]
  },
  {
   "cell_type": "code",
   "execution_count": 126,
   "metadata": {},
   "outputs": [
    {
     "data": {
      "image/png": "[encoded data removed]",
      "text/plain": [
       "<Figure size 640x480 with 1 Axes>"
      ]
     },
     "metadata": {},
     "output_type": "display_data"
    }
   ],
   "source": [
    "fig, ax = plt.subplots()\n",
    "sm.qqplot_2samples(df_summ['total_energy'], df_summ['avg_temp_diff'], line ='45', ax = ax) \n",
    "ax.set_title('Distribution of values for total_energy vs avg temp diff')\n",
    "ax.set_xlabel('Quantiles of total energy')\n",
    "ax.set_ylabel('Quantiles of temperature diff')\n",
    "plt.show()"
   ]
  },
  {
   "cell_type": "markdown",
   "metadata": {},
   "source": [
    "This graph clearly show that the relationship between energy used and difference with outside temperature is *not* linear. Strictly speaking we should therefore not use Pearson's correlation coefficient to calculate the correlation between the two values.\n",
    "\n",
    "That is too bad, because if the relationship *were* linear a simple linear regression could be used to create a predictive model for this data set. As it stands, we need do some more work before we can accurately predict energy use for the heat pump in this data set.\n",
    "\n",
    "Finally, it is also possible to plot distributions of our data against normal or skewed normal distributions. To do this, we use the `probplot` function in the `scipy.stats` package. Here is an example that shows us the total_energy variable is neither a normal distribution nor a skewed normal distribution (but we already knew that, of course)."
   ]
  },
  {
   "cell_type": "code",
   "execution_count": null,
   "metadata": {},
   "outputs": [
    {
     "data": {
      "image/png": "[encoded data removed]",
      "text/plain": [
       "<Figure size 1200x400 with 2 Axes>"
      ]
     },
     "metadata": {},
     "output_type": "display_data"
    }
   ],
   "source": [
    "fig, ax = plt.subplots(1, 2, figsize=(12, 4))\n",
    "stats.probplot(df_summ['total_energy'], plot=ax[0], dist=stats.norm);\n",
    "# then, we plot the data with a theoretical skewed normal distribution\n",
    "stats.probplot(df_summ['total_energy'], plot=ax[1], dist=stats.skewnorm, sparams=(10,));\n",
    "ax[1].set_title(\"Skew-normal Q-Q plot\")\n",
    "plt.show()\n"
   ]
  }
 ],
 "metadata": {
  "kernelspec": {
   "display_name": ".venv",
   "language": "python",
   "name": "python3"
  },
  "language_info": {
   "codemirror_mode": {
    "name": "ipython",
    "version": 3
   },
   "file_extension": ".py",
   "mimetype": "text/x-python",
   "name": "python",
   "nbconvert_exporter": "python",
   "pygments_lexer": "ipython3",
   "version": "3.13.0"
  }
 },
 "nbformat": 4,
 "nbformat_minor": 2
}
